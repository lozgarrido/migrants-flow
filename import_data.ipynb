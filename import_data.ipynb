{
 "cells": [
  {
   "cell_type": "code",
   "execution_count": null,
   "metadata": {},
   "outputs": [],
   "source": [
    "import requests\n",
    "import json\n",
    "import pandas as pd"
   ]
  },
  {
   "cell_type": "code",
   "execution_count": null,
   "metadata": {},
   "outputs": [],
   "source": [
    "def get_country_code(country, code_len=3):\n",
    "    '''Obtains ISO 3166 code given a country.\n",
    "    \n",
    "    Args:\n",
    "        country: country name\n",
    "        code_len: alpha len of code (2 or 3, default 3)\n",
    "    '''\n",
    "    \n",
    "    #API calling\n",
    "    query = 'https://restcountries.eu/rest/v2/name' + country\n",
    "    country_info = requests.get(query).json()[0]\n",
    "    \n",
    "    #Extract country code from json\n",
    "    country_code_key = f'alpha{str(code_len)}Code'\n",
    "    country_code = country_info.get(country_code_key)\n",
    "\n",
    "    return country_code"
   ]
  },
  {
   "cell_type": "code",
   "execution_count": null,
   "metadata": {},
   "outputs": [],
   "source": [
    "def check_country_code(country_code):\n",
    "    '''Returns a boolean if a country code exists.'''\n",
    "    \n",
    "    #API calling\n",
    "    query = 'https://restcountries.eu/rest/v2/alpha/' + country_code\n",
    "    \n",
    "    #Check if the response is valid\n",
    "    return requests.get(query).ok"
   ]
  },
  {
   "cell_type": "code",
   "execution_count": null,
   "metadata": {},
   "outputs": [],
   "source": [
    "def get_annual_asylum_stats(year, origin_country=None, asylum_country=None):\n",
    "    '''Returns a dicionary with asylum seekers stats in given year.\n",
    "    \n",
    "    Args:\n",
    "        year\n",
    "        origin_country: origin country code or name (optional)\n",
    "        asylum_country: asylum country code or name (optional)\n",
    "    '''\n",
    "\n",
    "    #Set API parameters\n",
    "    year_parameter = '?year=' + str(year)\n",
    "    origin_country_parameter = ''\n",
    "    asylum_country_parameter = ''\n",
    "    \n",
    "    if origin_country: \n",
    "        #If origin_country is the country name, get its country code\n",
    "        if check_country_code(origin_country) == False:\n",
    "            origin_country = get_country_code(origin_country)\n",
    "            origin_country_parameter = '&country_of_origin=' + origin_country\n",
    "            \n",
    "    if asylum_country:\n",
    "        #If asylum_country is the country name, get its country code\n",
    "        if check_country_code(asylum_country) == False:\n",
    "            asylum_country = get_country_code(asylum_country)\n",
    "            asylum_country_parameter = '&country_of_asylum=' + asylum_country\n",
    "    \n",
    "    #API calling\n",
    "    api_url = 'http://data.unhcr.org/api/stats/asylum_seekers.json'\n",
    "    query = api_url + year_parameter + origin_country_parameter + asylum_country_parameter\n",
    "    annual_asylum_stats = requests.get(query).json()\n",
    "\n",
    "    return annual_asylum_stats"
   ]
  },
  {
   "cell_type": "code",
   "execution_count": null,
   "metadata": {},
   "outputs": [],
   "source": [
    "#Dummy data while UNHCR API is down\n",
    "\n",
    "annual_asylum_stats = {    \n",
    "                    \"year\": \"2013\",\n",
    "                    \"country_of_asylum\": \"PAK\",\n",
    "                    \"country_of_asylum_en\": \"Pakistan\",\n",
    "                    \"country_of_origin\": \"AFG\",\n",
    "                    \"country_of_origin_en\": \"Afghanistan\",\n",
    "                    \"rsd_procedure\": \"U / FA\",\n",
    "                    \"rsd_procedure_en\": \"UNHCR / First instance and appeal\",\n",
    "                    \"pending_start_of_year_total_persons\": \"3220\",\n",
    "                    \"pending_start_of_year_of_which_unhcr_assisted\": \"3220\",\n",
    "                    \"applied_during_year\": \"5087\",\n",
    "                    \"positive_decisions_convention_status\": \"2117\",\n",
    "                    \"positive_decisions_complementary_protection_status\": 'as',\n",
    "                    \"rejected\": \"638\",\n",
    "                    \"otherwise_closed\": \"229\",\n",
    "                    \"total_decisions\": \"2984\",\n",
    "                    \"pending_end_of_year_total_persons\": \"5323\",\n",
    "                    \"pending_end_of_year_of_which_unhcr_assisted\": \"5323\"\n",
    "                    }\n",
    "\n",
    "#This cell must be deleted"
   ]
  },
  {
   "cell_type": "code",
   "execution_count": null,
   "metadata": {},
   "outputs": [],
   "source": [
    "def asylum_stats_to_dataframe(first_year, last_year, origin_country=None, asylum_country=None):\n",
    "    '''Creates a dataframe with asylum seekers stats between given years.\n",
    "    \n",
    "    Args:\n",
    "        first_year: beginning of period (included)\n",
    "        last_year: end of period (included) \n",
    "        origin_country: origin country code or name (optional)\n",
    "        asylum: asylum country code or name (optional)\n",
    "    '''\n",
    "    \n",
    "    #Iterate over years period\n",
    "    years_period = range(first_year, last_year+1)\n",
    "    for year in years_period:\n",
    "        annual_asylum_stats = get_annual_asylum_stats(year, origin_country, asylum_country)\n",
    "    \n",
    "        #Append stats to the dataframe. Create it first if it doesn't exist\n",
    "        try:\n",
    "            asylum_stats = asylum_stats.append([annual_asylum_stats])\n",
    "        except:\n",
    "            asylum_stats = pd.DataFrame(columns=annual_asylum_stats.keys())\n",
    "            asylum_stats = asylum_stats.append([annual_asylum_stats]) \n",
    "        \n",
    "    return asylum_stats"
   ]
  }
 ],
 "metadata": {
  "kernelspec": {
   "display_name": "Python 3",
   "language": "python",
   "name": "python3"
  },
  "language_info": {
   "codemirror_mode": {
    "name": "ipython",
    "version": 3
   },
   "file_extension": ".py",
   "mimetype": "text/x-python",
   "name": "python",
   "nbconvert_exporter": "python",
   "pygments_lexer": "ipython3",
   "version": "3.7.4"
  }
 },
 "nbformat": 4,
 "nbformat_minor": 2
}
